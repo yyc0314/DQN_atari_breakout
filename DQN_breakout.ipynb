{
  "cells": [
    {
      "cell_type": "markdown",
      "metadata": {
        "id": "view-in-github",
        "colab_type": "text"
      },
      "source": [
        "<a href=\"https://colab.research.google.com/github/yyc0314/DQN_atari_breakout/blob/main/DQN_breakout.ipynb\" target=\"_parent\"><img src=\"https://colab.research.google.com/assets/colab-badge.svg\" alt=\"Open In Colab\"/></a>"
      ]
    },
    {
      "cell_type": "markdown",
      "metadata": {
        "id": "jiMDQequLlF_"
      },
      "source": [
        "#Environment"
      ]
    },
    {
      "cell_type": "markdown",
      "source": [
        "掛載雲端硬碟"
      ],
      "metadata": {
        "id": "klJdITTisEVH"
      }
    },
    {
      "cell_type": "code",
      "execution_count": null,
      "metadata": {
        "colab": {
          "base_uri": "https://localhost:8080/"
        },
        "id": "isiYH1BZNXzI",
        "outputId": "78313ce2-883b-4546-e7fb-428519507ee5"
      },
      "outputs": [
        {
          "output_type": "stream",
          "name": "stdout",
          "text": [
            "Mounted at /content/drive\n"
          ]
        }
      ],
      "source": [
        "from google.colab import drive\n",
        "drive.mount('/content/drive')"
      ]
    },
    {
      "cell_type": "markdown",
      "source": [
        "套件安裝"
      ],
      "metadata": {
        "id": "GlevdMiDsIna"
      }
    },
    {
      "cell_type": "code",
      "execution_count": null,
      "metadata": {
        "id": "LICIzlQZUmxy",
        "jupyter": {
          "outputs_hidden": true
        },
        "scrolled": true
      },
      "outputs": [],
      "source": [
        "!wget http://www.atarimania.com/roms/Roms.rar\n",
        "!mkdir /content/ROM/\n",
        "!unrar e /content/Roms.rar /content/ROM/\n",
        "!python -m atari_py.import_roms /content/ROM/\n",
        "!pip install atari-py==0.2.6\n",
        "!pip install gymnasium==0.26.0\n",
        "!pip install gymnasium[atari]"
      ]
    },
    {
      "cell_type": "markdown",
      "source": [
        "模組安裝"
      ],
      "metadata": {
        "id": "-0Q2KvyesJlf"
      }
    },
    {
      "cell_type": "code",
      "source": [
        "import gymnasium as gym\n",
        "import numpy as np\n",
        "import matplotlib.pyplot as plt\n",
        "from PIL import Image\n",
        "\n",
        "import torch\n",
        "import torch.nn as nn\n",
        "import torch.optim as optim\n",
        "import torch.nn.functional as F"
      ],
      "metadata": {
        "id": "p5PVytgGebp0"
      },
      "execution_count": null,
      "outputs": []
    },
    {
      "cell_type": "markdown",
      "metadata": {
        "id": "MxzzjK_Pg92S"
      },
      "source": [
        "一般RL的運作方式\n",
        "\n",
        "```\n",
        "state=env.reset() #初始化\n",
        "while True:\n",
        "  action=choose_action(state) #RL演算法\n",
        "  state_next,reward,done,infor=env.step(action) #done->是否結束 info->除了state以外的其他資訊\n",
        "  env.render() #有些遊戲可以將畫面渲染出來\n",
        "  state=state_next.copy() 更新狀態\n",
        "  if done:\n",
        "    break\n",
        "```\n",
        "\n"
      ]
    },
    {
      "cell_type": "markdown",
      "source": [
        "#Evironment"
      ],
      "metadata": {
        "id": "5Dsm5d82XNBn"
      }
    },
    {
      "cell_type": "code",
      "execution_count": null,
      "metadata": {
        "id": "VkTLyEbfVgrv"
      },
      "outputs": [],
      "source": [
        "env_name = \"ALE/Breakout-v5\"\n",
        "env = gym.make(env_name)"
      ]
    },
    {
      "cell_type": "code",
      "source": [
        "print(\"action:\", env.unwrapped.get_action_meanings())"
      ],
      "metadata": {
        "colab": {
          "base_uri": "https://localhost:8080/"
        },
        "id": "SDAZ1ZXVlTun",
        "outputId": "df6e435c-0eb5-45c3-c703-b090e5b94ab3"
      },
      "execution_count": null,
      "outputs": [
        {
          "output_type": "stream",
          "name": "stdout",
          "text": [
            "action: ['NOOP', 'FIRE', 'RIGHT', 'LEFT']\n"
          ]
        }
      ]
    },
    {
      "cell_type": "code",
      "execution_count": null,
      "metadata": {
        "colab": {
          "base_uri": "https://localhost:8080/",
          "height": 452
        },
        "id": "21QKcu0VeKD5",
        "outputId": "fc35ff81-d9b7-44ce-80b1-280db7e66371"
      },
      "outputs": [
        {
          "output_type": "execute_result",
          "data": {
            "text/plain": [
              "<matplotlib.image.AxesImage at 0x7f50959b7ac0>"
            ]
          },
          "metadata": {},
          "execution_count": 5
        },
        {
          "output_type": "display_data",
          "data": {
            "text/plain": [
              "<Figure size 640x480 with 1 Axes>"
            ],
            "image/png": "[encoded data removed]"
          },
          "metadata": {}
        }
      ],
      "source": [
        "state,_ = env.reset()\n",
        "action = env.action_space.sample()\n",
        "state_next, reward,ter,tru,info = env.step(1)\n",
        "plt.figure()\n",
        "plt.imshow(state_next)"
      ]
    },
    {
      "cell_type": "markdown",
      "source": [
        "# Wrapper"
      ],
      "metadata": {
        "id": "WHYWYzZDgMSo"
      }
    },
    {
      "cell_type": "code",
      "execution_count": null,
      "metadata": {
        "id": "TUfZv9MyQnLE"
      },
      "outputs": [],
      "source": [
        "class BreakEnvWrapper(gym.Wrapper):\n",
        "  def __init__(self,env,k,img_size=(84,84)):\n",
        "    gym.Wrapper.__init__(self,env)\n",
        "    self.k=k\n",
        "    self.img_size=img_size\n",
        "    obs_shape=env.observation_space.shape\n",
        "    self.observation_space=gym.spaces.Box(low=0.0,high=1.0,shape=(k,img_size[0],img_size[1]),dtype=np.float32)\n",
        "\n",
        "  def _preprocess(self,state,th=0.26):\n",
        "    state=np.array(Image.fromarray(state).resize(self.img_size,Image.BILINEAR)) #resize\n",
        "    state=state.astype(np.float64).mean(2)/255. #第三維(2 RGB)平均/255 轉灰階\n",
        "    return state\n",
        "\n",
        "  #疊加前後幀 動態上的變化\n",
        "  def reset(self):\n",
        "    state,_=self.env.reset()\n",
        "    state=self._preprocess(state)\n",
        "    state=state[np.newaxis,...].repeat(self.k,axis=0) #複製k份疊加\n",
        "    return state\n",
        "\n",
        "  #以防在k步期間遊戲就結束了\n",
        "  def step(self,action):\n",
        "    state_next=[]\n",
        "    info=[]\n",
        "    reward=0 #整個frame的大reward\n",
        "    ter=False\n",
        "    for i in range(self.k):\n",
        "      if not ter:\n",
        "        state_next_f,reward_f,ter_f,tru_f,info_f=self.env.step(action)\n",
        "        state_next_f=self._preprocess(state_next_f)\n",
        "        reward+=reward_f\n",
        "        ter=ter_f\n",
        "        info.append(info_f)\n",
        "        #print(\"h1\",type(state_next_f))\n",
        "      state_next.append(state_next_f[np.newaxis,...])\n",
        "    state_next=np.concatenate(state_next,0) #疊起來\n",
        "    #print(type(state_next))\n",
        "\n",
        "    return state_next,reward,ter,tru,info"
      ]
    },
    {
      "cell_type": "code",
      "execution_count": null,
      "metadata": {
        "colab": {
          "base_uri": "https://localhost:8080/",
          "height": 451
        },
        "id": "dBoClzkjwiEh",
        "outputId": "5d8030b9-c82c-4431-fa8c-49b760d9c4c7"
      },
      "outputs": [
        {
          "output_type": "execute_result",
          "data": {
            "text/plain": [
              "<matplotlib.image.AxesImage at 0x7f50933f6950>"
            ]
          },
          "metadata": {},
          "execution_count": 7
        },
        {
          "output_type": "display_data",
          "data": {
            "text/plain": [
              "<Figure size 640x480 with 1 Axes>"
            ],
            "image/png": "[encoded data removed]"
          },
          "metadata": {}
        }
      ],
      "source": [
        "env_break=BreakEnvWrapper(env,k=4,img_size=(84,84)) #k=4 -> 疊加4個frames\n",
        "state=env_break.reset()\n",
        "action=env_break.action_space.sample()\n",
        "state_next, reward, ter, tru, info = env_break.step(1)\n",
        "plt.imshow(state_next[0],cmap=\"gray\")"
      ]
    },
    {
      "cell_type": "markdown",
      "source": [
        "# Qnet"
      ],
      "metadata": {
        "id": "82eyov9qgPtU"
      }
    },
    {
      "cell_type": "code",
      "execution_count": null,
      "metadata": {
        "id": "yhXkLsJUn3LP"
      },
      "outputs": [],
      "source": [
        "class QNet(nn.Module):\n",
        "  def __init__(self,input_shape,n_actions):\n",
        "    super(QNet,self).__init__()\n",
        "    self.conv=nn.Sequential(\n",
        "        nn.Conv2d(input_shape[0],32,kernel_size=8,stride=4),\n",
        "        nn.ReLU(),\n",
        "        nn.Conv2d(32,64,kernel_size=4,stride=2),\n",
        "        nn.ReLU(),\n",
        "        nn.Conv2d(64,64,kernel_size=3,stride=1),\n",
        "        nn.ReLU(),\n",
        "    )\n",
        "    conv_out_size=self._get_conv_out(input_shape)\n",
        "\n",
        "    self.fc=nn.Sequential(\n",
        "        nn.Flatten(),\n",
        "        nn.Linear(conv_out_size,512),\n",
        "        nn.ReLU(),\n",
        "        nn.Linear(512,n_actions),\n",
        "\n",
        "    )\n",
        "  def _get_conv_out(self,shape):\n",
        "    o=self.conv(torch.zeros(1,*shape))\n",
        "    return int(np.prod(o.size())) #output的size算出最後一層conv的輸出大小\n",
        "\n",
        "  def forward(self,x):\n",
        "    conv_out=self.conv(x)\n",
        "    out=self.fc(conv_out)\n",
        "    return out"
      ]
    },
    {
      "cell_type": "markdown",
      "source": [
        "# DQN"
      ],
      "metadata": {
        "id": "9roKBLLdgSD6"
      }
    },
    {
      "cell_type": "code",
      "execution_count": null,
      "metadata": {
        "id": "eFt1nbWgdyUH"
      },
      "outputs": [],
      "source": [
        "date_old=\"50501\"\n",
        "date_new=\"50501\""
      ]
    },
    {
      "cell_type": "code",
      "execution_count": null,
      "metadata": {
        "id": "xpQCxXNYjPV3"
      },
      "outputs": [],
      "source": [
        "path_td=\"/content/drive/MyDrive/gif/png/tdloss_\"+date_new+\".png\"\n",
        "path_re=\"/content/drive/MyDrive/gif/png/rw_\"+date_new+\".png\"\n",
        "path_t_re=\"/content/drive/MyDrive/gif/png/t_rw_\"+date_new+\".png\"\n",
        "\n",
        "path_npy_old=\"/content/drive/MyDrive/gif/save/\"+date_old #舊的(跟接著訓練的qnet同個檔名)\n",
        "path_npy_new=\"/content/drive/MyDrive/gif/save/\"+date_new #新的(此次訓練的檔名)\n",
        "\n",
        "import os\n",
        "if not os.path.exists(path_npy_new):\n",
        "  os.makedirs(path_npy_new)"
      ]
    },
    {
      "cell_type": "code",
      "execution_count": null,
      "metadata": {
        "id": "uZmvyk19E6nX"
      },
      "outputs": [],
      "source": [
        "class DeepQNetwork():\n",
        "  def __init__(\n",
        "    self,\n",
        "    n_actions,\n",
        "    input_shape,\n",
        "    qnet,\n",
        "    device,\n",
        "    learning_rate = 2e-4,\n",
        "    reward_decay = 0.99,\n",
        "    replace_target_iter = 5000,\n",
        "    memory_size = 100000,\n",
        "    batch_size = 32,\n",
        "  ):\n",
        "    # initialize\n",
        "    self.losses = []\n",
        "    self.aver_l = []\n",
        "    self.rewards = []\n",
        "    self.aver_r = []\n",
        "    self.t_r = []\n",
        "\n",
        "    self.n_actions = n_actions\n",
        "    self.input_shape = input_shape\n",
        "    self.lr = learning_rate\n",
        "    self.gamma = reward_decay\n",
        "    self.replace_target_iter = replace_target_iter\n",
        "    self.memory_size = memory_size\n",
        "    self.batch_size = batch_size\n",
        "    self.device = device\n",
        "    self.learn_step_counter = 0\n",
        "    self.init_memory()\n",
        "    self.png_index= len(self.memory[\"aver_td\"])\n",
        "\n",
        "    self.qnet_eval=qnet(self.input_shape,self.n_actions).to(self.device)\n",
        "    self.qnet_target=qnet(self.input_shape,self.n_actions).to(self.device)\n",
        "    self.qnet_target.eval()\n",
        "    self.optimizer=optim.RMSprop(self.qnet_eval.parameters(),lr=self.lr)\n",
        "\n",
        "  def choose_action(self, state, epsilon=0):\n",
        "    state = torch.FloatTensor(state).unsqueeze(0).to(self.device)\n",
        "    actions_value = self.qnet_eval.forward(state)\n",
        "    if np.random.uniform(0,1) > epsilon:   # greedy\n",
        "      action=torch.max(actions_value,1)[1].data.cpu().numpy()[0]\n",
        "    else:   # random\n",
        "      action=np.random.randint(0, self.n_actions)\n",
        "    return action\n",
        "\n",
        "  def learn(self): #根據我們的資料取一個batch來訓練\n",
        "    if self.learn_step_counter % self.replace_target_iter==0: #特定步數後更新\n",
        "      self.qnet_target.load_state_dict(self.qnet_eval.state_dict())\n",
        "\n",
        "    if self.memory_counter > self.memory_size:\n",
        "      sample_index=np.random.choice(self.memory_size,size=self.batch_size)\n",
        "    else:\n",
        "      sample_index=np.random.choice(self.memory_counter,size=self.batch_size)\n",
        "\n",
        "    b_s = torch.FloatTensor(self.memory[\"s\"][sample_index]).to(self.device)\n",
        "    b_a = torch.LongTensor(self.memory[\"a\"][sample_index]).to(self.device)\n",
        "    b_r = torch.FloatTensor(self.memory[\"r\"][sample_index]).to(self.device)\n",
        "    b_s_ = torch.FloatTensor(self.memory[\"s_\"][sample_index]).to(self.device)\n",
        "    b_d = torch.FloatTensor(self.memory[\"done\"][sample_index]).to(self.device)\n",
        "\n",
        "    q_curr_eval = self.qnet_eval(b_s).gather(1,b_a)\n",
        "    q_next_target = self.qnet_target(b_s_).detach()\n",
        "\n",
        "    #next_state_values = q_next_target.max(1)[0].view(-1, 1)   # DQN\n",
        "    q_next_eval = self.qnet_eval(b_s_).detach()\n",
        "    next_state_values = q_next_target.gather(1, q_next_eval.max(1)[1].unsqueeze(1))   # DDQN\n",
        "                #1-b_d if b_d==1(done)就沒有下一個值\n",
        "    q_curr_recur = b_r + (1-b_d) * self.gamma * next_state_values\n",
        "\n",
        "    self.loss = F.smooth_l1_loss(q_curr_eval, q_curr_recur)\n",
        "    self.optimizer.zero_grad()\n",
        "    self.loss.backward()\n",
        "    self.optimizer.step()\n",
        "    self.learn_step_counter += 1\n",
        "    self.losses.append(self.loss.detach().cpu().numpy())\n",
        "\n",
        "    return self.loss.detach().cpu().numpy()\n",
        "\n",
        "  def init_memory(self): #初始化 replayed buffer\n",
        "    if not hasattr(self, \"memory\"):\n",
        "      self.memory={\n",
        "        \"s\":np.zeros((self.memory_size,*self.input_shape)),\n",
        "        \"a\":np.zeros((self.memory_size,1)),\n",
        "        \"r\":np.zeros((self.memory_size,1)),\n",
        "        \"s_\":np.zeros((self.memory_size,*self.input_shape)),\n",
        "        \"done\":np.zeros((self.memory_size,1)),\n",
        "\n",
        "        \"aver_td\":[],\n",
        "        \"aver_re\":[],\n",
        "        \"total_re\":[],\n",
        "    }\n",
        "\n",
        "  def store_transition(self,s,a,r,s_,d): #儲存進memory\n",
        "    if not hasattr(self,\"memory_counter\"): #memory大小限制 初始化\n",
        "      self.memory_counter=0\n",
        "    if self.memory_counter <= self.memory_size: #當超過memory_size，重頭存\n",
        "      index=self.memory_counter % self.memory_size\n",
        "    else:\n",
        "      index=np.random.randint(self.memory_size)\n",
        "\n",
        "    self.memory[\"s\"][index]=s\n",
        "    self.memory[\"a\"][index]=np.array(a).reshape(-1,1)\n",
        "    self.memory[\"r\"][index]=np.array(r).reshape(-1,1)\n",
        "    self.memory[\"s_\"][index]=s_\n",
        "    self.memory[\"done\"][index]=np.array(d).reshape(-1,1)\n",
        "    self.memory_counter+=1\n",
        "\n",
        "    self.rewards.append(r)\n",
        "\n",
        "  def store_t_r(self,total_reward):\n",
        "    self.t_r.append(total_reward)\n",
        "    if self.t_r:\n",
        "      self.memory[\"total_re\"] = np.concatenate([self.memory[\"total_re\"], [self.t_r[-1]]])\n",
        "\n",
        "\n",
        "  def add_r_l(self):\n",
        "    r_value=self.rewards[-100:]\n",
        "    aver_rv=sum(r_value)/100\n",
        "    self.aver_r.append(aver_rv)\n",
        "\n",
        "    l_value=self.losses[-100:]\n",
        "    aver_lv=sum(l_value)/100\n",
        "    self.aver_l.append(aver_lv)\n",
        "\n",
        "  def store_png(self): #100存一次averange\n",
        "    if not hasattr(self,\"png_memory_counter\"): #memory大小限制\n",
        "         self.png_memory_counter=0\n",
        "    if self.png_memory_counter <= self.png_size: #當超過memory_size，重頭存\n",
        "        self.png_index=self.png_memory_counter % self.png_size\n",
        "\n",
        "    self.add_r_l()\n",
        "\n",
        "    if(self.png_index>self.png_memory_counter):\n",
        "        self.memory[\"aver_td\"] = []\n",
        "        self.memory[\"aver_re\"] = []\n",
        "        self.png_index = self.png_index % self.png_memory_counter\n",
        "\n",
        "    if self.aver_l:\n",
        "        self.memory[\"aver_td\"] = np.concatenate([self.memory[\"aver_td\"], [self.aver_l[-1]]])\n",
        "    if self.aver_r:\n",
        "        self.memory[\"aver_re\"] = np.concatenate([self.memory[\"aver_re\"], [self.aver_r[-1]]])\n",
        "\n",
        "    self.png_index+=1\n",
        "\n",
        "  def save_load_model(self, op, path=\"save\", fname=\"qnet.pt\"):\n",
        "    import os\n",
        "    if not os.path.exists(path):\n",
        "        os.makedirs(path)\n",
        "    file_path = os.path.join(path, fname)\n",
        "    if op == \"save\":\n",
        "        torch.save(self.qnet_eval.state_dict(), file_path)\n",
        "        np.save(os.path.join(path_npy_new, \"aver_td_\"+date_new+\".npy\"), self.memory[\"aver_td\"])\n",
        "        np.save(os.path.join(path_npy_new, \"aver_re_\"+date_new+\".npy\"), self.memory[\"aver_re\"])\n",
        "        np.save(os.path.join(path_npy_new, \"total_re_\"+date_new+\".npy\"), self.memory[\"total_re\"])\n",
        "\n",
        "    elif op == \"load\":\n",
        "        self.qnet_eval.load_state_dict(torch.load(file_path, map_location=self.device))\n",
        "        self.qnet_target.load_state_dict(torch.load(file_path, map_location=self.device))\n",
        "        aver_td_path = os.path.join(path_npy_old, \"aver_td_\"+date_old+\".npy\")\n",
        "        aver_re_path = os.path.join(path_npy_old, \"aver_re_\"+date_old+\".npy\")\n",
        "        total_re_path = os.path.join(path_npy_old, \"total_re_\"+date_old+\".npy\")\n",
        "        if os.path.exists(aver_td_path):\n",
        "            self.memory[\"aver_td\"] = np.load(aver_td_path)\n",
        "        if os.path.exists(aver_re_path):\n",
        "            self.memory[\"aver_re\"] = np.load(aver_re_path)\n",
        "        if os.path.exists(total_re_path):\n",
        "            self.memory[\"total_re\"] = np.load(total_re_path)\n",
        "\n",
        "  def plot_loss(self):\n",
        "    x_loss=np.array(list(range(len(self.memory[\"aver_td\"]))))\n",
        "    plt.plot(x_loss,self.memory[\"aver_td\"], label='TD Loss')\n",
        "    plt.xlabel('Iteration')\n",
        "    plt.ylabel('Loss')\n",
        "    plt.title('TD Loss over Training')\n",
        "    plt.legend()\n",
        "    plt.savefig(path_td)\n",
        "    plt.show()\n",
        "\n",
        "  def plot_rewards(self):\n",
        "    x_reward=np.array(list(range(len(self.memory[\"aver_re\"]))))\n",
        "    plt.plot(x_reward,self.memory[\"aver_re\"], label='Average Reward')\n",
        "    plt.xlabel('Episode')\n",
        "    plt.ylabel('Average Reward')\n",
        "    plt.title('Average Reward over Episodes')\n",
        "    plt.legend()\n",
        "    plt.savefig(path_re)\n",
        "    plt.show()\n",
        "\n",
        "  def plot_t_r(self):\n",
        "    x_t_reward=np.array(list(range(len(self.memory[\"total_re\"]))))\n",
        "    plt.plot(x_t_reward,self.memory[\"total_re\"], label='Score')\n",
        "    plt.xlabel('Episode')\n",
        "    plt.ylabel('Score')\n",
        "    plt.title('Score over Episodes')\n",
        "    plt.legend()\n",
        "    plt.savefig(path_t_re)\n",
        "    plt.show()"
      ]
    },
    {
      "cell_type": "markdown",
      "metadata": {
        "id": "ngJNte-afcx-"
      },
      "source": [
        "\n",
        "\n",
        "```\n",
        "q_curr_eval = self.qnet_eval(b_s).gather(1,b_a)\n",
        "q_next_target = self.qnet_target(b_s_).detach()\n",
        "\n",
        "#next_state_values = q_next_target.max(1)[0].view(-1, 1)   # DQN\n",
        "q_next_eval = self.qnet_eval(b_s_).detach()\n",
        "next_state_values = q_next_target.gather(1, q_next_eval.max(1)[1].unsqueeze(1))   # DDQN\n",
        "            #1-b_d if b_d==1(done)就沒有下一個值\n",
        "q_curr_recur = b_r + (1-b_d) * self.gamma * next_state_values\n",
        "```\n",
        "\n"
      ]
    },
    {
      "cell_type": "markdown",
      "metadata": {
        "id": "UuvJfvzSgR-h"
      },
      "source": [
        "\n",
        "\n",
        "```\n",
        "self.loss = F.smooth_l1_loss(q_curr_eval, q_curr_recur)\n",
        "```\n",
        "\n"
      ]
    },
    {
      "cell_type": "code",
      "execution_count": null,
      "metadata": {
        "colab": {
          "base_uri": "https://localhost:8080/"
        },
        "id": "aeE3nJr8D1CU",
        "outputId": "6b4b40b0-3536-42d2-8bbc-b6ae4c3d21d3"
      },
      "outputs": [
        {
          "output_type": "stream",
          "name": "stdout",
          "text": [
            "QNet(\n",
            "  (conv): Sequential(\n",
            "    (0): Conv2d(4, 32, kernel_size=(8, 8), stride=(4, 4))\n",
            "    (1): ReLU()\n",
            "    (2): Conv2d(32, 64, kernel_size=(4, 4), stride=(2, 2))\n",
            "    (3): ReLU()\n",
            "    (4): Conv2d(64, 64, kernel_size=(3, 3), stride=(1, 1))\n",
            "    (5): ReLU()\n",
            "  )\n",
            "  (fc): Sequential(\n",
            "    (0): Flatten(start_dim=1, end_dim=-1)\n",
            "    (1): Linear(in_features=3136, out_features=512, bias=True)\n",
            "    (2): ReLU()\n",
            "    (3): Linear(in_features=512, out_features=4, bias=True)\n",
            "  )\n",
            ")\n"
          ]
        }
      ],
      "source": [
        "stack_frames = 4\n",
        "img_size = (84,84)\n",
        "device = torch.device(\"cuda\" if torch.cuda.is_available() else \"cpu\")\n",
        "\n",
        "agent = DeepQNetwork(\n",
        "    n_actions = env.action_space.n,\n",
        "    input_shape = [stack_frames, *img_size],\n",
        "    qnet = QNet,\n",
        "    device = device,\n",
        "    learning_rate = 2e-4,\n",
        "    reward_decay = 0.99,\n",
        "    replace_target_iter = 5000,\n",
        "    memory_size = 100000,\n",
        "    batch_size = 32,\n",
        "    )\n",
        "print(agent.qnet_eval)"
      ]
    },
    {
      "cell_type": "markdown",
      "metadata": {
        "id": "bBLQDZ943Id_"
      },
      "source": [
        "## load agent"
      ]
    },
    {
      "cell_type": "code",
      "execution_count": null,
      "metadata": {
        "id": "7AY9RRIjzKUo",
        "scrolled": true
      },
      "outputs": [],
      "source": [
        "agent.save_load_model(op=\"load\", path=\"/content/drive/MyDrive/gif/save\", fname=\"qnet_50501_2.pt\") #3."
      ]
    },
    {
      "cell_type": "markdown",
      "metadata": {
        "id": "MT14S2Be3Lm3"
      },
      "source": [
        "# play"
      ]
    },
    {
      "cell_type": "code",
      "execution_count": null,
      "metadata": {
        "id": "3rpz1qx7KvAM"
      },
      "outputs": [],
      "source": [
        "def play(env, agent, stack_frames, img_size):\n",
        "  # Reset environment.\n",
        "  state = env.reset()\n",
        "  img_buffer = [Image.fromarray(state[0]*255)]\n",
        "\n",
        "  # Initialize information.\n",
        "  step = 0\n",
        "  total_reward = 0\n",
        "  live_now=5\n",
        "\n",
        "  # One episode.\n",
        "  while True:\n",
        "      # Select action.\n",
        "      if step==0:\n",
        "        action=1\n",
        "      else:\n",
        "        action = agent.choose_action(state)\n",
        "\n",
        "      # Get next stacked state.\n",
        "      state_next, reward, ter,tru, info = env.step(action)\n",
        "      live_num=info[0].get(\"lives\")\n",
        "\n",
        "      if(live_num!=live_now):\n",
        "        action=1\n",
        "        state_next, reward, ter,tru, info = env.step(action)\n",
        "        live_now=live_num\n",
        "\n",
        "      if step % 2 == 0:\n",
        "        img_buffer.append(Image.fromarray(state_next[0]*255))\n",
        "\n",
        "      state = state_next.copy()\n",
        "      step += 1\n",
        "      total_reward += reward\n",
        "      print('\\rStep: {:3d} | Reward: {:.3f} / {:.3f}'\\\n",
        "          .format(step, reward, total_reward), end=\"\")\n",
        "\n",
        "      if ter or step>40000: ###改次數\n",
        "        print()\n",
        "        break\n",
        "\n",
        "  return img_buffer"
      ]
    },
    {
      "cell_type": "code",
      "execution_count": null,
      "metadata": {
        "id": "7FKZmGkvNBQZ"
      },
      "outputs": [],
      "source": [
        "import os\n",
        "def save_gif(img_buffer, fname, gif_path=os.path.join(\"/content/drive/MyDrive/gif/train\", \"train\"+date_new)):\n",
        "  if not os.path.exists(gif_path):\n",
        "      os.makedirs(gif_path)\n",
        "  img_buffer[0].save(os.path.join(gif_path, fname), save_all=True, append_images=img_buffer[1:], duration=1, loop=0)"
      ]
    },
    {
      "cell_type": "code",
      "execution_count": null,
      "metadata": {
        "colab": {
          "base_uri": "https://localhost:8080/"
        },
        "id": "I7RqBOJsNQDD",
        "outputId": "27bbff74-3485-45e7-9462-c8b4ab9f5ed7"
      },
      "outputs": [
        {
          "output_type": "stream",
          "name": "stdout",
          "text": [
            "Step:  31 | Reward: 0.000 / 0.000\n"
          ]
        }
      ],
      "source": [
        "# Test Code\n",
        "img_buffer = play(env_break, agent, stack_frames, img_size)\n",
        "save_gif(img_buffer, fname=\"test_\"+date_new+\".gif\")"
      ]
    },
    {
      "cell_type": "markdown",
      "source": [
        "# update epsilon"
      ],
      "metadata": {
        "id": "oohM9GPlgjz3"
      }
    },
    {
      "cell_type": "code",
      "execution_count": null,
      "metadata": {
        "id": "Nkrl4sobPQpl"
      },
      "outputs": [],
      "source": [
        "def epsilon_compute(frame_id, epsilon_max=1, epsilon_min=0.1, epsilon_decay=1000000): ##\n",
        "  return epsilon_min + (epsilon_max - epsilon_min) * np.exp(-frame_id / epsilon_decay)"
      ]
    },
    {
      "cell_type": "code",
      "execution_count": null,
      "metadata": {
        "colab": {
          "base_uri": "https://localhost:8080/",
          "height": 484
        },
        "id": "Spxtl2vzPvjl",
        "outputId": "19506d9a-c734-4815-fc96-1b7c0be0fc69"
      },
      "outputs": [
        {
          "output_type": "execute_result",
          "data": {
            "text/plain": [
              "'\\n    exploration -> 探索 -> 隨機採取random action、但有可能無法收斂\\n    exploitation -> 開發 -> 收斂到best action、但有可能就只收斂到local minimum\\n\\n    解決方法:ɛ-Greedy -> 以某個值去決定做exploration還是exploitation\\n    0-1中一開始設ɛ=1,先exploration,後調整ɛ越接近0做exploitation\\n'"
            ],
            "application/vnd.google.colaboratory.intrinsic+json": {
              "type": "string"
            }
          },
          "metadata": {},
          "execution_count": 22
        },
        {
          "output_type": "display_data",
          "data": {
            "text/plain": [
              "<Figure size 640x480 with 1 Axes>"
            ],
            "image/png": "[encoded data removed]"
          },
          "metadata": {}
        }
      ],
      "source": [
        "frame_ids = np.array(range(1000000))\n",
        "epsilons = epsilon_compute(frame_ids)\n",
        "plt.plot(epsilons)\n",
        "#epsilon curve\n",
        "\"\"\"\n",
        "    exploration -> 探索 -> 隨機採取random action、但有可能無法收斂\n",
        "    exploitation -> 開發 -> 收斂到best action、但有可能就只收斂到local minimum\n",
        "\n",
        "    解決方法:ɛ-Greedy -> 以某個值去決定做exploration還是exploitation\n",
        "    0-1中一開始設ɛ=1,先exploration,後調整ɛ越接近0做exploitation\n",
        "\"\"\""
      ]
    },
    {
      "cell_type": "markdown",
      "source": [
        "# train"
      ],
      "metadata": {
        "id": "k7hU1sYQgmC4"
      }
    },
    {
      "cell_type": "code",
      "execution_count": null,
      "metadata": {
        "id": "G38yGK0wdyUb"
      },
      "outputs": [],
      "source": [
        "num=0"
      ]
    },
    {
      "cell_type": "code",
      "execution_count": null,
      "metadata": {
        "id": "NeyNwHjMPyts"
      },
      "outputs": [],
      "source": [
        "def train(env, agent, stack_frames, img_size, save_path=\"save\", max_steps=0):\n",
        "  total_step =  40000\n",
        "  episode = 0\n",
        "  max_total_reward=0\n",
        "  max_score=0\n",
        "\n",
        "  while True:\n",
        "    # Reset environment.\n",
        "    state = env.reset()\n",
        "\n",
        "    # Initialize information.\n",
        "    step = 0\n",
        "    total_reward = 0\n",
        "    loss = 0\n",
        "    live_now=5\n",
        "    max_reward=2\n",
        "    score=0\n",
        "\n",
        "    # One episode.\n",
        "    while True:\n",
        "      # TODO(Lab-6): Select action.\n",
        "      epsilon = epsilon_compute(total_step)\n",
        "      action = agent.choose_action(state, epsilon)\n",
        "      # Get next stacked state.\n",
        "      state_next, reward, ter,tru, info = env.step(action)\n",
        "      live_num=info[0].get(\"lives\")\n",
        "\n",
        "      score+=reward\n",
        "\n",
        "      if max_reward<reward:\n",
        "        max_reward=reward+1\n",
        "\n",
        "      if(live_num!=live_now):\n",
        "        action=1\n",
        "        state_next, reward,ter,tru, info = env.step(action)\n",
        "        live_now=live_num\n",
        "        reward-=1 ###\n",
        "\n",
        "\n",
        "      # TODO(Lab-7): Train RL model.\n",
        "      agent.store_transition(state, action, reward, state_next, ter)\n",
        "      if total_step > 4*agent.batch_size: #蒐集一定步數後才開始訓練\n",
        "        loss = agent.learn()\n",
        "\n",
        "      state = state_next.copy()\n",
        "      step += 1\n",
        "      total_step += 1\n",
        "      total_reward += reward\n",
        "\n",
        "      if total_step % 100 == 0:\n",
        "          agent.store_png() ####\n",
        "      if ter:\n",
        "        agent.store_t_r(score)\n",
        "        if total_reward>max_total_reward:\n",
        "          max_total_reward=total_reward\n",
        "\n",
        "      if ter:\n",
        "        print('\\rEpisode: {:3d} | Step: {:3d} / {:3d} | Reward: {:.3f} / {:.3f} | Loss: {:.3f} | Epsilon: {:.3f}'\\\n",
        "            .format(episode, step, total_step, reward, total_reward, loss, epsilon))\n",
        "        print(\"score:\",score)\n",
        "\n",
        "      if total_step % 10000 == 0:\n",
        "        num=total_step % 100000\n",
        "        num//=10000\n",
        "        print(\"\\nSave Model ...\")\n",
        "        agent.save_load_model(op=\"save\", path=os.path.join(\"/content/drive/MyDrive/gif/save\"), fname=\"qnet_\"+date_new+\"_\"+str(num)+\".pt\")\n",
        "        print(\"Generate GIF ...\")\n",
        "        img_buffer = play(env, agent, stack_frames, img_size)\n",
        "        save_gif(img_buffer, \"train\"+date_new+\"_\" + str(total_step).zfill(6) + \".gif\")\n",
        "        print(\"Done !!\")\n",
        "        print(\"max_score:\",max_score)\n",
        "        agent.plot_loss()\n",
        "        agent.plot_t_r()\n",
        "\n",
        "\n",
        "      if ter or step>2000:\n",
        "        episode += 1\n",
        "        break\n",
        "\n",
        "    if max_score<score:\n",
        "      max_score=score\n",
        "      print(\"max_score:\",max_score)\n",
        "\n",
        "    if total_step > max_steps:\n",
        "      break\n",
        "  print(\"max_score:\",max_score)"
      ]
    },
    {
      "cell_type": "code",
      "execution_count": null,
      "metadata": {
        "id": "sZvc4cHnQJ8L",
        "scrolled": true
      },
      "outputs": [],
      "source": [
        "train(env_break, agent, stack_frames, img_size, save_path=os.path.join(\"/content/drive/MyDrive/gif\", \"save\"), max_steps=200000) #8."
      ]
    },
    {
      "cell_type": "markdown",
      "source": [
        "# eval"
      ],
      "metadata": {
        "id": "h6n4jFYxgpCq"
      }
    },
    {
      "cell_type": "code",
      "execution_count": null,
      "metadata": {
        "id": "Srp05BHddyUc"
      },
      "outputs": [],
      "source": [
        "def drawing(png_date):\n",
        "    import os\n",
        "    import numpy as np\n",
        "    score_path = os.path.join(\"/content/drive/MyDrive/gif/save/\"+png_date+\"/total_re_\"+png_date+\".npy\")\n",
        "    score=np.load(score_path)\n",
        "    num=100\n",
        "    cnt=len(score)\n",
        "    cnt-=(cnt%num)\n",
        "    aver_score=[]\n",
        "\n",
        "    for i in range(0,cnt,num):\n",
        "        value=0\n",
        "        for j in range(i,i+num):\n",
        "            value+=score[j]\n",
        "        value/=num\n",
        "        aver_score.append(value)\n",
        "    x_t_reward=np.array(list(range(len(aver_score))))\n",
        "    plt.plot(x_t_reward,aver_score, label='Score')\n",
        "    plt.xlabel('Episode')\n",
        "    plt.ylabel('Score')\n",
        "    plt.title('Score over Episodes')\n",
        "    plt.legend()\n",
        "    plt.savefig(\"/content/drive/MyDrive/gif/png/\"+png_date+\".png\")\n",
        "    plt.show()"
      ]
    },
    {
      "cell_type": "code",
      "execution_count": null,
      "metadata": {
        "id": "PHamk3kudyUd"
      },
      "outputs": [],
      "source": [
        "drawing(\"50501\")"
      ]
    },
    {
      "cell_type": "code",
      "execution_count": null,
      "metadata": {
        "id": "flrNa_9edyUd"
      },
      "outputs": [],
      "source": [
        "agent.save_load_model(op=\"save\", path=os.path.join(\"/content/drive/MyDrive/gif/save\"), fname=\"qnet_\"+date_new+\".pt\")\n",
        "agent.save_load_model(op=\"load\", path=\"/content/drive/MyDrive/gif/save\", fname=\"qnet_\"+date_new+\".pt\") #3.\n",
        "img_buffer = play(env_break, agent, stack_frames, img_size)\n",
        "save_gif(img_buffer, \"eval_\"+date_new+\".gif\",os.path.join(\"/content/drive/MyDrive/gif/save\"))"
      ]
    },
    {
      "cell_type": "code",
      "execution_count": null,
      "metadata": {
        "id": "SvKhqActcOhr",
        "jupyter": {
          "source_hidden": true
        }
      },
      "outputs": [],
      "source": [
        "agent.plot_loss()"
      ]
    },
    {
      "cell_type": "code",
      "execution_count": null,
      "metadata": {
        "id": "KWhoGxKuiI-Y"
      },
      "outputs": [],
      "source": [
        "agent.plot_rewards()"
      ]
    },
    {
      "cell_type": "code",
      "execution_count": null,
      "metadata": {
        "id": "UokrXAJMpsyh"
      },
      "outputs": [],
      "source": [
        "agent.plot_t_r()"
      ]
    },
    {
      "cell_type": "markdown",
      "metadata": {
        "id": "9ehEB1Xo54dN"
      },
      "source": [
        "#補跑eval"
      ]
    },
    {
      "cell_type": "code",
      "execution_count": null,
      "metadata": {
        "colab": {
          "base_uri": "https://localhost:8080/"
        },
        "id": "wA2t72lU5COi",
        "outputId": "ad684d95-cb21-46b1-9922-5201db3e21ea"
      },
      "outputs": [
        {
          "name": "stdout",
          "output_type": "stream",
          "text": [
            "float64\n",
            "Step: 180 | Reward: 0.000 / 40.000\n"
          ]
        }
      ],
      "source": [
        "agent.save_load_model(op=\"load\", path=\"/content/drive/MyDrive/gif/save\", fname=\"qnet_32502.pt\") #3.\n",
        "img_buffer = play(env_break, agent, stack_frames, img_size)\n",
        "save_gif(img_buffer, \"eval_32502.gif\",os.path.join(\"/content/drive/MyDrive/gif/eval\"))  #, \"eval\") #10."
      ]
    }
  ],
  "metadata": {
    "accelerator": "GPU",
    "colab": {
      "gpuType": "T4",
      "provenance": [],
      "include_colab_link": true
    },
    "kernelspec": {
      "display_name": "Python 3 (ipykernel)",
      "language": "python",
      "name": "python3"
    },
    "language_info": {
      "codemirror_mode": {
        "name": "ipython",
        "version": 3
      },
      "file_extension": ".py",
      "mimetype": "text/x-python",
      "name": "python",
      "nbconvert_exporter": "python",
      "pygments_lexer": "ipython3",
      "version": "3.11.8"
    }
  },
  "nbformat": 4,
  "nbformat_minor": 0
}